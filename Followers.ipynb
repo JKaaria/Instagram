{
 "cells": [
  {
   "cell_type": "code",
   "execution_count": 2,
   "metadata": {},
   "outputs": [
    {
     "ename": "ModuleNotFoundError",
     "evalue": "No module named 'InstagramAPI'",
     "output_type": "error",
     "traceback": [
      "\u001b[0;31m---------------------------------------------------------------------------\u001b[0m",
      "\u001b[0;31mModuleNotFoundError\u001b[0m                       Traceback (most recent call last)",
      "Cell \u001b[0;32mIn[2], line 1\u001b[0m\n\u001b[0;32m----> 1\u001b[0m \u001b[39mfrom\u001b[39;00m \u001b[39mInstagramAPI\u001b[39;00m \u001b[39mimport\u001b[39;00m InstagramAPI\n\u001b[1;32m      3\u001b[0m \u001b[39m# Login to your Instagram account\u001b[39;00m\n\u001b[1;32m      4\u001b[0m username \u001b[39m=\u001b[39m \u001b[39m'\u001b[39m\u001b[39mucaptrading\u001b[39m\u001b[39m'\u001b[39m\n",
      "\u001b[0;31mModuleNotFoundError\u001b[0m: No module named 'InstagramAPI'"
     ]
    }
   ],
   "source": [
    "from InstagramAPI import InstagramAPI\n",
    "\n",
    "# Login to your Instagram account\n",
    "username = 'ucaptrading'\n",
    "password = 'Proptrading&2120'\n",
    "api = InstagramAPI(username, password)\n",
    "api.login()\n",
    "\n",
    "# Get the media ID of the post you want to extract likes from\n",
    "media_id = 'CloWxWrN8Yz'\n",
    "\n",
    "# Get the list of users who liked the post\n",
    "api.getMediaLikers(media_id)\n",
    "users = api.LastJson['users']\n",
    "\n",
    "# Loop through the list of users and extract their username and follower count\n",
    "for user in users:\n",
    "    username = user['username']\n",
    "    user_id = user['pk']\n",
    "    api.getUsernameInfo(user_id)\n",
    "    user_info = api.LastJson['user']\n",
    "    follower_count = user_info['follower_count']\n",
    "    print(username, follower_count)\n",
    "\n",
    "# Logout from your Instagram account\n",
    "api.logout()\n"
   ]
  }
 ],
 "metadata": {
  "kernelspec": {
   "display_name": "venv",
   "language": "python",
   "name": "python3"
  },
  "language_info": {
   "codemirror_mode": {
    "name": "ipython",
    "version": 3
   },
   "file_extension": ".py",
   "mimetype": "text/x-python",
   "name": "python",
   "nbconvert_exporter": "python",
   "pygments_lexer": "ipython3",
   "version": "3.9.15"
  },
  "orig_nbformat": 4,
  "vscode": {
   "interpreter": {
    "hash": "11ca18f0a3bb9b6f5a464fbff35ec35ec227514901d9bb248c649c5196565cf5"
   }
  }
 },
 "nbformat": 4,
 "nbformat_minor": 2
}
